{
 "cells": [
  {
   "cell_type": "code",
   "execution_count": 1,
   "id": "f72ac03e",
   "metadata": {},
   "outputs": [],
   "source": [
    "import time"
   ]
  },
  {
   "cell_type": "code",
   "execution_count": 2,
   "id": "a5a57da7",
   "metadata": {},
   "outputs": [],
   "source": [
    "from selenium import webdriver"
   ]
  },
  {
   "cell_type": "code",
   "execution_count": 3,
   "id": "8bc2e23a",
   "metadata": {},
   "outputs": [],
   "source": [
    "from selenium.webdriver.common.keys import Keys\n",
    "from selenium.webdriver.common.by import By"
   ]
  },
  {
   "cell_type": "code",
   "execution_count": 4,
   "id": "49c84e50",
   "metadata": {},
   "outputs": [],
   "source": [
    "driver=webdriver.Chrome()\n",
    "driver.maximize_window()\n",
    "driver.get(\"https://www.google.com\")\n",
    "searchbar=driver.find_element(By.NAME,\"q\")\n",
    "searchbar.send_keys(\"facebook\")\n",
    "searchbar.send_keys(Keys.RETURN)\n",
    "driver.find_element(By.XPATH,\"/html/body/div[4]/div/div[12]/div[1]/div[2]/div[2]/div/div/div[1]/div/div/div/div/div/div/div/div[1]/div/span/a/h3\").click()\n",
    "driver.find_element(By.NAME,\"email\").send_keys(\"fake@gamil.com\")\n",
    "driver.find_element(By.NAME,\"pass\").send_keys(\"123@@xxxzzz\")\n",
    "driver.find_element(By.NAME,\"login\").click()"
   ]
  },
  {
   "cell_type": "code",
   "execution_count": 6,
   "id": "ec7794c4",
   "metadata": {},
   "outputs": [],
   "source": [
    "d=webdriver.Chrome()\n",
    "d.maximize_window()\n",
    "d.get(\"https://www.saucedemo.com/\")\n",
    "d.find_element(By.NAME,\"user-name\").send_keys(\"standard_user\")\n",
    "d.find_element(By.NAME,\"password\").send_keys(\"secret_sauce\")\n",
    "d.find_element(By.NAME,\"login-button\").click()\n",
    "a=len(d.find_elements(By.CSS_SELECTOR, \".btn_inventory\"))\n",
    "for i in range(a):\n",
    "    d.find_elements(By.CSS_SELECTOR, \".btn_inventory\")[i].click()\n",
    "d.find_element(By.CLASS_NAME,\"shopping_cart_link\").click()\n",
    "d.find_element(By.NAME,\"checkout\").click()\n",
    "d.find_element(By.ID,\"first-name\").send_keys(\"dsadsa\")\n",
    "d.find_element(By.ID,\"last-name\").send_keys(\"ggf\")\n",
    "d.find_element(By.NAME,\"postalCode\").send_keys(\"1223-345\")\n",
    "d.find_element(By.NAME,\"continue\").click()\n",
    "d.find_element(By.ID,\"finish\").click()\n",
    "d.find_element(By.ID,\"back-to-products\").click()"
   ]
  },
  {
   "cell_type": "code",
   "execution_count": null,
   "id": "50ae6ccb",
   "metadata": {},
   "outputs": [],
   "source": []
  }
 ],
 "metadata": {
  "kernelspec": {
   "display_name": "Python 3 (ipykernel)",
   "language": "python",
   "name": "python3"
  },
  "language_info": {
   "codemirror_mode": {
    "name": "ipython",
    "version": 3
   },
   "file_extension": ".py",
   "mimetype": "text/x-python",
   "name": "python",
   "nbconvert_exporter": "python",
   "pygments_lexer": "ipython3",
   "version": "3.7.8"
  }
 },
 "nbformat": 4,
 "nbformat_minor": 5
}
